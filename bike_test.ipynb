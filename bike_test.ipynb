{
 "cells": [
  {
   "cell_type": "markdown",
   "metadata": {},
   "source": [
    "# 서울시 공공 자전거 실시간 대여 정보"
   ]
  },
  {
   "cell_type": "code",
   "execution_count": 128,
   "metadata": {},
   "outputs": [],
   "source": [
    "import requests\n",
    "import json\n",
    "import pandas as pd \n",
    "import folium\n",
    "\n",
    "\n",
    "from folium.plugins import MarkerCluster\n",
    "from pandas.io.json import json_normalize\n",
    "from ipywidgets import interact"
   ]
  },
  {
   "cell_type": "markdown",
   "metadata": {},
   "source": [
    "###### 변수 정의 및 데이터 불러오기\n",
    "1. 서울 열린 데이터 광장 - 서울시 공공 자전거 실시간 대여 정보\n",
    "http://data.seoul.go.kr/dataList/OA-15493/A/1/datasetView.do\n",
    "2. 행정구별 좌표"
   ]
  },
  {
   "cell_type": "code",
   "execution_count": 129,
   "metadata": {},
   "outputs": [],
   "source": [
    "### 자전거 대여 정보\n",
    "key = \"6c586f625479686935306a575a4e53\"\n",
    "bike_type = \"json\"\n",
    "station_url = \"xml\"\n",
    "start_1 = \"1\"\n",
    "end_1 = \"1000\"\n",
    "start_2 = \"1001\"\n",
    "end_2 = \"2000\"\n",
    "start_3 = \"2001\"\n",
    "end_3 = \"3000\"\n",
    "\n",
    "bike_url_1 = \"http://openapi.seoul.go.kr:8088/{}/{}/bikeList/{}/{}/\".format(key, bike_type, start_1, end_1)\n",
    "bike_url_2 = \"http://openapi.seoul.go.kr:8088/{}/{}/bikeList/{}/{}/\".format(key, bike_type, start_2, end_2)\n",
    "bike_url_3 = \"http://openapi.seoul.go.kr:8088/{}/{}/bikeList/{}/{}/\".format(key, bike_type, start_3, end_3)\n",
    "\n",
    "### 행정구별 좌표\n",
    "seoul = pd.read_csv(\"Desktop/code_it/seoul.csv\")\n",
    "\n",
    "cities = seoul['이름']\n",
    "seoul = pd.read_csv(\"Desktop/code_it/seoul.csv\")\n",
    "seoul_dict = seoul.set_index('이름').T.to_dict('list')"
   ]
  },
  {
   "cell_type": "markdown",
   "metadata": {},
   "source": [
    "###### json -> dataframe\n",
    "한번에 최대 1000건 호출 가능. 나눠서 호출"
   ]
  },
  {
   "cell_type": "code",
   "execution_count": 130,
   "metadata": {},
   "outputs": [],
   "source": [
    "### 서울 열린데이터 광장 실시간 대여정보 api 불러오기 및 데이터프레임\n",
    "\n",
    "response_1 = requests.get(bike_url_1)\n",
    "bike_dic_1 = response_1.json()\n",
    "bike_json_1 = bike_dic_1['rentBikeStatus']['row']\n",
    "\n",
    "response_2 = requests.get(bike_url_2)\n",
    "bike_dic_2 = response_2.json()\n",
    "bike_json_2 = bike_dic_2['rentBikeStatus']['row']\n",
    "\n",
    "response_3 = requests.get(bike_url_3)\n",
    "bike_dic_3 = response_3.json()\n",
    "bike_json_3 = bike_dic_3['rentBikeStatus']['row']\n",
    "\n",
    "bike = pd.json_normalize(bike_json_1+bike_json_2+bike_json_3)"
   ]
  },
  {
   "cell_type": "markdown",
   "metadata": {},
   "source": [
    "###### folium - marker, cluster, 행정구별 검색 생성"
   ]
  },
  {
   "cell_type": "code",
   "execution_count": 151,
   "metadata": {},
   "outputs": [
    {
     "data": {
      "application/vnd.jupyter.widget-view+json": {
       "model_id": "22ee825493304322a4a9600efa3e4ad5",
       "version_major": 2,
       "version_minor": 0
      },
      "text/plain": [
       "interactive(children=(Dropdown(description='city', options=('서울', '종로구', '중구', '용산구', '성동구', '광진구', '동대문구', '중…"
      ]
     },
     "metadata": {},
     "output_type": "display_data"
    }
   ],
   "source": [
    "@interact(city=cities)\n",
    "def show_canned_examples(city):\n",
    "    \n",
    "    latlon_for_city = seoul_dict\n",
    "    zoom = 0\n",
    "    \n",
    "    if city == '서울':\n",
    "        zoom = 11\n",
    "    else :\n",
    "        zoom = 14\n",
    "    map = folium.Map(location=latlon_for_city[city], zoom_start=zoom)\n",
    "    \n",
    "    marker_cluster = MarkerCluster().add_to(map)\n",
    "    \n",
    "    for name, parking, rack, lat, lon in zip(bike.stationName, bike.parkingBikeTotCnt, bike.rackTotCnt, bike.stationLatitude,  bike.stationLongitude):\n",
    "        popup_message = \"정류장 이름 : {} <br>거치 가능한 공간 : {} <br>대기중인 자전거 : {}\".format(name, rack, parking)\n",
    "        iframe = folium.IFrame(popup_message)\n",
    "        popup = folium.Popup(iframe, min_width=400, max_width=400)\n",
    "        folium.Marker([lat, lon], tooltip = name, popup = popup, icon = folium.Icon(color='red', icon='flag')).add_to(marker_cluster)\n",
    "    \n",
    "    return map\n",
    "\n",
    "\n"
   ]
  },
  {
   "cell_type": "code",
   "execution_count": 152,
   "metadata": {},
   "outputs": [
    {
     "data": {
      "application/vnd.jupyter.widget-view+json": {
       "model_id": "2214ee680c504e4da0c6974e954abc17",
       "version_major": 2,
       "version_minor": 0
      },
      "text/plain": [
       "interactive(children=(Text(value='서울', description='city'), Output()), _dom_classes=('widget-interact',))"
      ]
     },
     "metadata": {},
     "output_type": "display_data"
    },
    {
     "data": {
      "text/plain": [
       "<function __main__.show_canned_examples(city)>"
      ]
     },
     "execution_count": 152,
     "metadata": {},
     "output_type": "execute_result"
    }
   ],
   "source": [
    "interact(show_canned_examples, city = \"서울\")"
   ]
  },
  {
   "cell_type": "code",
   "execution_count": null,
   "metadata": {},
   "outputs": [],
   "source": []
  }
 ],
 "metadata": {
  "kernelspec": {
   "display_name": "Python 3",
   "language": "python",
   "name": "python3"
  },
  "language_info": {
   "codemirror_mode": {
    "name": "ipython",
    "version": 3
   },
   "file_extension": ".py",
   "mimetype": "text/x-python",
   "name": "python",
   "nbconvert_exporter": "python",
   "pygments_lexer": "ipython3",
   "version": "3.7.6"
  }
 },
 "nbformat": 4,
 "nbformat_minor": 4
}
